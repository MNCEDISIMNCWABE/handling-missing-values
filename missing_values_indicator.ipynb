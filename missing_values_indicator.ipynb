{
 "cells": [
  {
   "cell_type": "code",
   "execution_count": 10,
   "metadata": {},
   "outputs": [
    {
     "data": {
      "text/html": [
       "<div>\n",
       "<style scoped>\n",
       "    .dataframe tbody tr th:only-of-type {\n",
       "        vertical-align: middle;\n",
       "    }\n",
       "\n",
       "    .dataframe tbody tr th {\n",
       "        vertical-align: top;\n",
       "    }\n",
       "\n",
       "    .dataframe thead th {\n",
       "        text-align: right;\n",
       "    }\n",
       "</style>\n",
       "<table border=\"1\" class=\"dataframe\">\n",
       "  <thead>\n",
       "    <tr style=\"text-align: right;\">\n",
       "      <th></th>\n",
       "      <th>loan_approved</th>\n",
       "      <th>marital_status</th>\n",
       "      <th>marital_status_mode_imputation</th>\n",
       "      <th>marital_status_missing</th>\n",
       "    </tr>\n",
       "  </thead>\n",
       "  <tbody>\n",
       "    <tr>\n",
       "      <th>0</th>\n",
       "      <td>Yes</td>\n",
       "      <td>NaN</td>\n",
       "      <td>Married</td>\n",
       "      <td>1</td>\n",
       "    </tr>\n",
       "    <tr>\n",
       "      <th>1</th>\n",
       "      <td>No</td>\n",
       "      <td>NaN</td>\n",
       "      <td>Married</td>\n",
       "      <td>1</td>\n",
       "    </tr>\n",
       "    <tr>\n",
       "      <th>4</th>\n",
       "      <td>Yes</td>\n",
       "      <td>Married</td>\n",
       "      <td>Married</td>\n",
       "      <td>0</td>\n",
       "    </tr>\n",
       "    <tr>\n",
       "      <th>5</th>\n",
       "      <td>Yes</td>\n",
       "      <td>Married</td>\n",
       "      <td>Married</td>\n",
       "      <td>0</td>\n",
       "    </tr>\n",
       "    <tr>\n",
       "      <th>6</th>\n",
       "      <td>Yes</td>\n",
       "      <td>Married</td>\n",
       "      <td>Married</td>\n",
       "      <td>0</td>\n",
       "    </tr>\n",
       "  </tbody>\n",
       "</table>\n",
       "</div>"
      ],
      "text/plain": [
       "  loan_approved marital_status marital_status_mode_imputation  \\\n",
       "0           Yes            NaN                        Married   \n",
       "1            No            NaN                        Married   \n",
       "4           Yes        Married                        Married   \n",
       "5           Yes        Married                        Married   \n",
       "6           Yes        Married                        Married   \n",
       "\n",
       "   marital_status_missing  \n",
       "0                       1  \n",
       "1                       1  \n",
       "4                       0  \n",
       "5                       0  \n",
       "6                       0  "
      ]
     },
     "execution_count": 10,
     "metadata": {},
     "output_type": "execute_result"
    }
   ],
   "source": [
    "import pandas as pd\n",
    "import numpy as np\n",
    "\n",
    "# Set seed for reproducibility\n",
    "np.random.seed(42)\n",
    "\n",
    "# Generate synthetic data of 10K samples\n",
    "n = 10000\n",
    "data = pd.DataFrame({\n",
    "    'loan_approved': np.random.choice(['Yes', 'No'], size=n, p=[0.5, 0.5]),\n",
    "    'marital_satisfaction': np.random.normal(loc=0, scale=1, size=n),\n",
    "    'married': np.random.choice([0, 1], size=n, p=[0.3, 0.7])  # 30% unmarried, 70% married\n",
    "})\n",
    "\n",
    "# Create marital_status column: set \"Married\" for married individuals and NaN for unmarried individuals\n",
    "data['marital_status'] = data['married'].apply(lambda x: 'Married' if x == 1 else np.nan)\n",
    "\n",
    "# Create missing value indicator\n",
    "data['marital_status_missing'] = data['marital_status'].isna().astype(int)\n",
    "\n",
    "# Replace missing values in marital_status with the mode (most frequent value)\n",
    "mode_marital_status = data['marital_status'].mode()[0]\n",
    "data['marital_status_mode_imputation'] = data['marital_status'].fillna(mode_marital_status)\n",
    "missing_values = data[data['marital_status'].isna()].head(2)\n",
    "non_missing_values = data[data['marital_status'].notna()].head(3)\n",
    "sample_data = pd.concat([missing_values, non_missing_values])\n",
    "sample_data[['loan_approved', 'marital_status', 'marital_status_mode_imputation', 'marital_status_missing']]"
   ]
  },
  {
   "cell_type": "code",
   "execution_count": null,
   "metadata": {},
   "outputs": [],
   "source": []
  },
  {
   "cell_type": "code",
   "execution_count": null,
   "metadata": {},
   "outputs": [],
   "source": []
  },
  {
   "cell_type": "code",
   "execution_count": null,
   "metadata": {},
   "outputs": [],
   "source": []
  },
  {
   "cell_type": "code",
   "execution_count": null,
   "metadata": {},
   "outputs": [],
   "source": []
  }
 ],
 "metadata": {
  "kernelspec": {
   "display_name": "Python 3",
   "language": "python",
   "name": "python3"
  },
  "language_info": {
   "codemirror_mode": {
    "name": "ipython",
    "version": 3
   },
   "file_extension": ".py",
   "mimetype": "text/x-python",
   "name": "python",
   "nbconvert_exporter": "python",
   "pygments_lexer": "ipython3",
   "version": "3.11.6"
  }
 },
 "nbformat": 4,
 "nbformat_minor": 2
}
